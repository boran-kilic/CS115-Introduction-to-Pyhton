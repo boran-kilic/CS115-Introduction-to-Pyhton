{
 "cells": [
  {
   "cell_type": "code",
   "execution_count": 1,
   "id": "d65eb303",
   "metadata": {},
   "outputs": [],
   "source": [
    "# CS115 Lab 09 Questions"
   ]
  },
  {
   "cell_type": "markdown",
   "id": "441775d6",
   "metadata": {},
   "source": [
    "## *Question 01*"
   ]
  },
  {
   "cell_type": "markdown",
   "id": "99f05754",
   "metadata": {},
   "source": [
    "First import numpy"
   ]
  },
  {
   "cell_type": "code",
   "execution_count": 1,
   "id": "a87e39d4",
   "metadata": {},
   "outputs": [],
   "source": [
    "import numpy as np"
   ]
  },
  {
   "cell_type": "markdown",
   "id": "3a4b51c8",
   "metadata": {},
   "source": [
    "a.\tLoad the data from the file covid_data.txt into a numpy array, covid_data. \n",
    "\n",
    "b.\tLoad the data from the file covid_country.txt into a numpy array, covid_country. "
   ]
  },
  {
   "cell_type": "code",
   "execution_count": 2,
   "id": "6f6400c3",
   "metadata": {},
   "outputs": [],
   "source": [
    "covid_data = np.loadtxt(\"covid_data.txt \")\n",
    "\n",
    "covid_country = np.loadtxt(\"covid_country.txt\", dtype='str', skiprows= 1)\n"
   ]
  },
  {
   "cell_type": "markdown",
   "id": "c71f4198",
   "metadata": {},
   "source": [
    "c.\tTranspose and update the covid_data array."
   ]
  },
  {
   "cell_type": "code",
   "execution_count": 3,
   "id": "7a31aad7",
   "metadata": {},
   "outputs": [],
   "source": [
    "covid_data = covid_data.transpose()"
   ]
  },
  {
   "cell_type": "markdown",
   "id": "d6f5a366",
   "metadata": {},
   "source": [
    "d.\tCalculate and display the average cases per 1 million.\n",
    "\n",
    "    Sample:\n",
    "    Average cases per 1 million: 3642.6"
   ]
  },
  {
   "cell_type": "code",
   "execution_count": null,
   "id": "3062d17b",
   "metadata": {},
   "outputs": [],
   "source": [
    "av = np.mean(covid_data[:,0]) \n",
    "print(f'Average cases per 1 million: {av:.1f}' )"
   ]
  },
  {
   "cell_type": "markdown",
   "id": "c4b1aa4f",
   "metadata": {},
   "source": [
    "e.\tDisplay the names of the countries in Europe.\n",
    "    \n",
    "    Sample:\n",
    "    Countries in Europe: ['Russia' 'Spain' 'UK' 'Italy' 'Germany' 'France' 'Sweden' 'Ukraine'\n",
    "     'Belgium' 'Belarus' 'Romania' 'Netherlands' 'Portugal' 'Poland'\n",
    "     'Switzerland' 'Serbia' 'Moldova' 'Ireland' 'Austria' 'Czechia' 'Denmark'\n",
    "     'Bosnia_Herzegovina' 'Bulgaria' 'North_Macedonia' 'Norway' 'Finland'\n",
    "     'Luxembourg' 'Albania' 'Croatia' 'Greece' 'Hungary' 'Montenegro'\n",
    "     'Slovakia' 'Slovenia' 'Lithuania' 'Estonia' 'Iceland' 'Latvia' 'Malta'\n",
    "     'Andorra' 'San_Marino' 'Channel_Islands' 'Isle_of_Man' 'Monaco'\n",
    "     'Liechtenstein']"
   ]
  },
  {
   "cell_type": "code",
   "execution_count": null,
   "id": "d5619b49",
   "metadata": {},
   "outputs": [],
   "source": [
    "print('Countries in Europe',covid_country[covid_country[:,1] == 'Europe'][:,0])"
   ]
  },
  {
   "cell_type": "markdown",
   "id": "93cc84d5",
   "metadata": {},
   "source": [
    "f.\tDisplay the names of the countries with cases per 1 million over 10000.\n",
    "\n",
    "    Sample:\n",
    "    \n",
    "    Countries with over 10000 cases per 1 million:\n",
    "     ['USA' 'Brazil' 'Peru' 'Chile' 'Qatar' 'Oman' 'Panama' 'Kuwait' 'Bahrain'\n",
    "     'Armenia' 'French_Guiana' 'Luxembourg' 'Mayotte' 'Andorra' 'San_Marino']"
   ]
  },
  {
   "cell_type": "code",
   "execution_count": null,
   "id": "4533fce1",
   "metadata": {},
   "outputs": [],
   "source": [
    "print('Countries with over 10000 cases per 1 million:\\n',covid_country[covid_data[:,0] > 10000][:,0])"
   ]
  },
  {
   "cell_type": "markdown",
   "id": "c17a367d",
   "metadata": {},
   "source": [
    "g.\tCalculate and display the maximum deaths per 1 million for Asia.\n",
    "\n",
    "    Sample:\n",
    "    Maximum deaths per 1 million in Asia:  260.0"
   ]
  },
  {
   "cell_type": "code",
   "execution_count": null,
   "id": "f8b228ba",
   "metadata": {},
   "outputs": [],
   "source": [
    "asia = covid_data[covid_country[:,1] == 'Asia']\n",
    "max_asia = np.max(asia[:,1])\n",
    "print('Maximum deaths per 1 million in Asia: ',max_asia)"
   ]
  },
  {
   "cell_type": "markdown",
   "id": "01c02588",
   "metadata": {},
   "source": [
    "h.\tDisplay the name of the countr(ies) with the maximum deaths per million (note: there may be more than one country with the     same maximum, but they may not all be in Asia, you should only display those in Asia).\n",
    "\n",
    "    Sample:\n",
    "    Country with maximum deaths per 1 million in Asia: Armenia"
   ]
  },
  {
   "cell_type": "code",
   "execution_count": null,
   "id": "83bc9008",
   "metadata": {},
   "outputs": [],
   "source": [
    "max_country = covid_country[ (covid_data[:,1] == max_asia) & (covid_country[:,1] == 'Asia')][:,0]\n",
    "print('Country with maximum deaths per 1 million in Asia: ', max_country)"
   ]
  },
  {
   "cell_type": "markdown",
   "id": "ae52b26f",
   "metadata": {},
   "source": [
    "i.\tCreate a new array, test_country, where the first column contains country names, and the second column contains the tests per 1 million. Hint: your new array should have 2 columns and 172 rows, not 172 columns and 2 rows."
   ]
  },
  {
   "cell_type": "code",
   "execution_count": null,
   "id": "e25f62df",
   "metadata": {},
   "outputs": [],
   "source": [
    "test_country = (np.array([covid_country[:,0], covid_data[:,2]])).transpose()\n",
    "np.savetxt('test_data.txt',test_country,fmt='%s')"
   ]
  },
  {
   "cell_type": "code",
   "execution_count": null,
   "id": "6cf7ed3a",
   "metadata": {},
   "outputs": [],
   "source": [
    "j.\tOutput the data in test_country to a file, test_data.txt."
   ]
  },
  {
   "cell_type": "code",
   "execution_count": 1,
   "id": "c71ae069",
   "metadata": {},
   "outputs": [
    {
     "ename": "NameError",
     "evalue": "name 'test_country' is not defined",
     "output_type": "error",
     "traceback": [
      "\u001b[1;31m---------------------------------------------------------------------------\u001b[0m",
      "\u001b[1;31mNameError\u001b[0m                                 Traceback (most recent call last)",
      "\u001b[1;32m<ipython-input-1-412e411b27b3>\u001b[0m in \u001b[0;36m<module>\u001b[1;34m\u001b[0m\n\u001b[1;32m----> 1\u001b[1;33m \u001b[0mprint\u001b[0m\u001b[1;33m(\u001b[0m\u001b[0mtest_country\u001b[0m\u001b[1;33m)\u001b[0m\u001b[1;33m\u001b[0m\u001b[1;33m\u001b[0m\u001b[0m\n\u001b[0m",
      "\u001b[1;31mNameError\u001b[0m: name 'test_country' is not defined"
     ]
    }
   ],
   "source": [
    "print(test_country)"
   ]
  },
  {
   "cell_type": "code",
   "execution_count": null,
   "id": "b4a87037",
   "metadata": {},
   "outputs": [],
   "source": []
  }
 ],
 "metadata": {
  "kernelspec": {
   "display_name": "Python 3",
   "language": "python",
   "name": "python3"
  },
  "language_info": {
   "codemirror_mode": {
    "name": "ipython",
    "version": 3
   },
   "file_extension": ".py",
   "mimetype": "text/x-python",
   "name": "python",
   "nbconvert_exporter": "python",
   "pygments_lexer": "ipython3",
   "version": "3.8.8"
  }
 },
 "nbformat": 4,
 "nbformat_minor": 5
}
